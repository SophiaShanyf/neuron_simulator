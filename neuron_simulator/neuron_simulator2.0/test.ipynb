{
 "cells": [
  {
   "cell_type": "code",
   "execution_count": 3,
   "metadata": {},
   "outputs": [],
   "source": [
    "from neuron import h, rxd\n",
    "from neuron.units import ms, mV, μm\n",
    "import pygame\n",
    "import pygame_gui\n",
    "import pygame_chart as pyc\n",
    "import helper_functions as hf"
   ]
  },
  {
   "cell_type": "markdown",
   "metadata": {},
   "source": [
    "# Test the pygame initation page and text labels:"
   ]
  },
  {
   "cell_type": "code",
   "execution_count": null,
   "metadata": {},
   "outputs": [
    {
     "name": "stderr",
     "output_type": "stream",
     "text": [
      "/Users/sooophias/Downloads/neuron_simulator/537_11/lib/python3.11/site-packages/pygame_gui/core/ui_appearance_theme.py:725: UserWarning: Failed to open theme file at path:theme.json\n",
      "  warnings.warn(\"Failed to open theme file at path:\" + str(file_path))\n",
      "/Users/sooophias/Downloads/neuron_simulator/537_11/lib/python3.11/site-packages/pygame_gui/elements/ui_label.py:135: UserWarning: Label Rect is too small for text: User tips: 1. Hit 'Enter' to input values; 2. Ion channel cannot be unselected. Please restart to try new values!  - size diff: (-212, 15)\n",
      "  warnings.warn(warn_text, UserWarning)\n"
     ]
    },
    {
     "ename": "",
     "evalue": "",
     "output_type": "error",
     "traceback": [
      "\u001b[1;31mThe Kernel crashed while executing code in the current cell or a previous cell. \n",
      "\u001b[1;31mPlease review the code in the cell(s) to identify a possible cause of the failure. \n",
      "\u001b[1;31mClick <a href='https://aka.ms/vscodeJupyterKernelCrash'>here</a> for more info. \n",
      "\u001b[1;31mView Jupyter <a href='command:jupyter.viewOutput'>log</a> for further details."
     ]
    }
   ],
   "source": [
    "pygame.init()\n",
    "\n",
    "WIDTH, HEIGHT = 900, 650\n",
    "\n",
    "SCREEN  = pygame.display.set_mode((WIDTH, HEIGHT))\n",
    "pygame.display.set_caption(\"Neuron Simulator\")\n",
    "\n",
    "CLOCK = pygame.time.Clock()\n",
    "MANAGER = pygame_gui.UIManager((WIDTH, HEIGHT), 'theme.json')\n",
    "\n",
    "Ion_leaky_input, Ion_HH_input, error_m = hf.setup_gui_page(MANAGER)\n",
    "\n",
    "is_running = True\n",
    "while is_running:\n",
    "    UI_REFRESH_RATE = CLOCK.tick(60)/100.0\n",
    "    for event in pygame.event.get():\n",
    "            if event.type == pygame.QUIT:\n",
    "                is_running = False\n",
    "            MANAGER.process_events(event)\n",
    "    SCREEN.fill(\"White\")\n",
    "\n",
    "    MANAGER.update(UI_REFRESH_RATE)\n",
    "\n",
    "    MANAGER.draw_ui(SCREEN)"
   ]
  },
  {
   "cell_type": "markdown",
   "metadata": {},
   "source": [
    "# Test NEURON class "
   ]
  },
  {
   "cell_type": "code",
   "execution_count": null,
   "metadata": {},
   "outputs": [],
   "source": [
    "neuron = hf.NEURON('soma')\n",
    "neuron.make_a_neuron()"
   ]
  },
  {
   "cell_type": "code",
   "execution_count": 6,
   "metadata": {},
   "outputs": [
    {
     "data": {
      "text/plain": [
       "{'point_processes': {},\n",
       " 'density_mechs': {},\n",
       " 'ions': {},\n",
       " 'morphology': {'L': 100.0,\n",
       "  'diam': [500.0],\n",
       "  'pts3d': [],\n",
       "  'parent': None,\n",
       "  'trueparent': None},\n",
       " 'nseg': 1,\n",
       " 'Ra': 35.4,\n",
       " 'cm': [1.0],\n",
       " 'regions': set(),\n",
       " 'species': set(),\n",
       " 'name': 'soma',\n",
       " 'hoc_internal_name': '__nrnsec_0x120078000',\n",
       " 'cell': None}"
      ]
     },
     "execution_count": 6,
     "metadata": {},
     "output_type": "execute_result"
    }
   ],
   "source": [
    "neuron.neuron.psection()"
   ]
  },
  {
   "cell_type": "code",
   "execution_count": null,
   "metadata": {},
   "outputs": [],
   "source": []
  }
 ],
 "metadata": {
  "kernelspec": {
   "display_name": "537_11",
   "language": "python",
   "name": "python3"
  },
  "language_info": {
   "codemirror_mode": {
    "name": "ipython",
    "version": 3
   },
   "file_extension": ".py",
   "mimetype": "text/x-python",
   "name": "python",
   "nbconvert_exporter": "python",
   "pygments_lexer": "ipython3",
   "version": "3.11.7"
  }
 },
 "nbformat": 4,
 "nbformat_minor": 2
}
